{
 "cells": [
  {
   "cell_type": "markdown",
   "metadata": {},
   "source": [
    "# Assignment 5"
   ]
  },
  {
   "cell_type": "markdown",
   "metadata": {},
   "source": [
    "## Question 1 : K-Means Clustering"
   ]
  },
  {
   "cell_type": "markdown",
   "metadata": {},
   "source": [
    "### data preprocessing"
   ]
  },
  {
   "cell_type": "code",
   "execution_count": 1,
   "metadata": {},
   "outputs": [],
   "source": [
    "import numpy as np\n",
    "import pandas as pd \n",
    "from sklearn.model_selection import train_test_split\n",
    "import random\n",
    "from sklearn.datasets import make_blobs\n",
    "import matplotlib.pyplot as plt"
   ]
  },
  {
   "cell_type": "code",
   "execution_count": 2,
   "metadata": {},
   "outputs": [],
   "source": [
    "football_df=pd.read_csv(\"football_data.csv\")"
   ]
  },
  {
   "cell_type": "code",
   "execution_count": 3,
   "metadata": {},
   "outputs": [],
   "source": [
    "football_df=football_df.drop(\"ID\",axis=1)\n",
    "football_df=football_df.drop(\"Unnamed: 0\",axis=1)\n",
    "football_df=football_df.drop(\"Name\",axis=1)\n",
    "football_df=football_df.drop(\"Jersey Number\",axis=1)\n",
    "football_df=football_df.drop(\"Unnamed: 60\",axis=1)"
   ]
  },
  {
   "cell_type": "code",
   "execution_count": 4,
   "metadata": {},
   "outputs": [],
   "source": [
    "football_df=football_df.drop(\"Joined\",axis=1)\n",
    "football_df=football_df.drop(\"Loaned From\",axis=1)"
   ]
  },
  {
   "cell_type": "code",
   "execution_count": 5,
   "metadata": {},
   "outputs": [],
   "source": [
    "football_df['nation_no']=football_df['Nationality'].astype('category').cat.codes\n",
    "football_df['club_no']=football_df['Club'].astype('category').cat.codes\n",
    "football_df['position_no']=football_df['Position'].astype('category').cat.codes"
   ]
  },
  {
   "cell_type": "code",
   "execution_count": 6,
   "metadata": {},
   "outputs": [],
   "source": [
    "football_df=football_df.drop(\"Nationality\",axis=1)\n",
    "football_df=football_df.drop(\"Club\",axis=1)\n",
    "football_df=football_df.drop(\"Position\",axis=1)"
   ]
  },
  {
   "cell_type": "code",
   "execution_count": 7,
   "metadata": {},
   "outputs": [
    {
     "name": "stderr",
     "output_type": "stream",
     "text": [
      "/tmp/ipykernel_23238/2667930555.py:2: FutureWarning: The default value of regex will change from True to False in a future version. In addition, single character regular expressions will *not* be treated as literal strings when regex=True.\n",
      "  football_df['Value']=football_df['Value'].str.replace('.','')\n"
     ]
    }
   ],
   "source": [
    "football_df['Value']=football_df['Value'].str.replace('€','')\n",
    "football_df['Value']=football_df['Value'].str.replace('.','')\n",
    "football_df['Value']=football_df['Value'].str.replace('M','000000')\n",
    "football_df['Value']=football_df['Value'].str.replace('K','000')\n",
    "football_df=football_df[football_df['Value'].str.contains('[a-zA-Z]')==False]\n",
    "football_df['Value']=pd.to_numeric(football_df['Value'])"
   ]
  },
  {
   "cell_type": "code",
   "execution_count": 8,
   "metadata": {},
   "outputs": [],
   "source": [
    "football_df['Wage']=football_df['Wage'].str.replace('€','')\n",
    "football_df['Wage']=football_df['Wage'].str.replace('K','000')\n",
    "football_df=football_df[football_df['Wage'].str.contains('[a-zA-Z]')==False]\n",
    "football_df['Wage']=pd.to_numeric(football_df['Wage'])"
   ]
  },
  {
   "cell_type": "code",
   "execution_count": 9,
   "metadata": {},
   "outputs": [],
   "source": [
    "football_df=football_df.drop(\"Special\",axis=1)\n",
    "football_df=football_df.drop(\"Contract Valid Until\",axis=1)\n",
    "football_df=football_df.drop(\"Body Type\",axis=1)"
   ]
  },
  {
   "cell_type": "code",
   "execution_count": 10,
   "metadata": {},
   "outputs": [],
   "source": [
    "football_df['Height']=football_df['Height'].str.replace(\"'\",\".\")\n",
    "football_df['Height']=pd.to_numeric(football_df['Height'])\n",
    "football_df['Weight']=football_df['Weight'].str.replace(\"lbs\",\"\")\n",
    "football_df['Weight']=pd.to_numeric(football_df['Weight'])\n",
    "football_df['Preferred Foot']=football_df['Preferred Foot'].astype('category').cat.codes"
   ]
  },
  {
   "cell_type": "code",
   "execution_count": 11,
   "metadata": {},
   "outputs": [],
   "source": [
    "football_df['International Reputation']=football_df['International Reputation'].astype('category').cat.codes"
   ]
  },
  {
   "cell_type": "code",
   "execution_count": 12,
   "metadata": {},
   "outputs": [],
   "source": [
    "football_df=football_df.drop(\"Work Rate\",axis=1)\n",
    "football_df=football_df.drop(\"Release Clause\",axis=1)\n",
    "football_df=football_df.drop(\"Real Face\",axis=1)\n",
    "football_df['Crossing']=pd.to_numeric(football_df['Crossing'])"
   ]
  },
  {
   "cell_type": "code",
   "execution_count": 13,
   "metadata": {},
   "outputs": [],
   "source": [
    "football_df=football_df.dropna()"
   ]
  },
  {
   "cell_type": "code",
   "execution_count": 14,
   "metadata": {},
   "outputs": [
    {
     "name": "stdout",
     "output_type": "stream",
     "text": [
      "<class 'pandas.core.frame.DataFrame'>\n",
      "Int64Index: 18131 entries, 0 to 18206\n",
      "Data columns (total 48 columns):\n",
      " #   Column                    Non-Null Count  Dtype  \n",
      "---  ------                    --------------  -----  \n",
      " 0   Age                       18131 non-null  int64  \n",
      " 1   Overall                   18131 non-null  int64  \n",
      " 2   Potential                 18131 non-null  int64  \n",
      " 3   Value                     18131 non-null  int64  \n",
      " 4   Wage                      18131 non-null  int64  \n",
      " 5   Preferred Foot            18131 non-null  int8   \n",
      " 6   International Reputation  18131 non-null  int8   \n",
      " 7   Weak Foot                 18131 non-null  float64\n",
      " 8   Skill Moves               18131 non-null  float64\n",
      " 9   Height                    18131 non-null  float64\n",
      " 10  Weight                    18131 non-null  float64\n",
      " 11  Crossing                  18131 non-null  float64\n",
      " 12  Finishing                 18131 non-null  float64\n",
      " 13  HeadingAccuracy           18131 non-null  float64\n",
      " 14  ShortPassing              18131 non-null  float64\n",
      " 15  Volleys                   18131 non-null  float64\n",
      " 16  Dribbling                 18131 non-null  float64\n",
      " 17  Curve                     18131 non-null  float64\n",
      " 18  FKAccuracy                18131 non-null  float64\n",
      " 19  LongPassing               18131 non-null  float64\n",
      " 20  BallControl               18131 non-null  float64\n",
      " 21  Acceleration              18131 non-null  float64\n",
      " 22  SprintSpeed               18131 non-null  float64\n",
      " 23  Agility                   18131 non-null  float64\n",
      " 24  Reactions                 18131 non-null  float64\n",
      " 25  Balance                   18131 non-null  float64\n",
      " 26  ShotPower                 18131 non-null  float64\n",
      " 27  Jumping                   18131 non-null  float64\n",
      " 28  Stamina                   18131 non-null  float64\n",
      " 29  Strength                  18131 non-null  float64\n",
      " 30  LongShots                 18131 non-null  float64\n",
      " 31  Aggression                18131 non-null  float64\n",
      " 32  Interceptions             18131 non-null  float64\n",
      " 33  Positioning               18131 non-null  float64\n",
      " 34  Vision                    18131 non-null  float64\n",
      " 35  Penalties                 18131 non-null  float64\n",
      " 36  Composure                 18131 non-null  float64\n",
      " 37  Marking                   18131 non-null  float64\n",
      " 38  StandingTackle            18131 non-null  float64\n",
      " 39  SlidingTackle             18131 non-null  float64\n",
      " 40  GKDiving                  18131 non-null  float64\n",
      " 41  GKHandling                18131 non-null  float64\n",
      " 42  GKKicking                 18131 non-null  float64\n",
      " 43  GKPositioning             18131 non-null  float64\n",
      " 44  GKReflexes                18131 non-null  float64\n",
      " 45  nation_no                 18131 non-null  int16  \n",
      " 46  club_no                   18131 non-null  int16  \n",
      " 47  position_no               18131 non-null  int8   \n",
      "dtypes: float64(38), int16(2), int64(5), int8(3)\n",
      "memory usage: 6.2 MB\n"
     ]
    }
   ],
   "source": [
    "football_df.info()\n"
   ]
  },
  {
   "cell_type": "code",
   "execution_count": 15,
   "metadata": {},
   "outputs": [],
   "source": [
    "football=football_df.to_numpy()"
   ]
  },
  {
   "cell_type": "markdown",
   "metadata": {},
   "source": [
    "### KMeans algorithm function"
   ]
  },
  {
   "cell_type": "code",
   "execution_count": 23,
   "metadata": {},
   "outputs": [],
   "source": [
    "def KMeans(data_array,k,max_iterations):\n",
    "    # data_array=data.to_numpy()\n",
    "    number_samples=data_array.shape[0]\n",
    "    number_features=data_array.shape[1]\n",
    "    centroid_index=random.sample(range(number_samples),k)\n",
    "    centroids=data_array[centroid_index]\n",
    "    centroids=np.array(centroids)\n",
    "    # print(centroids)\n",
    "    Clusters=[]\n",
    "    for i in range(k):\n",
    "        Clusters.append([])\n",
    "\n",
    "    for _ in range(max_iterations):\n",
    "        # print(_)\n",
    "        old_centroids=centroids.copy()\n",
    "        \n",
    "        for i in range(number_samples):\n",
    "            closest_centroid = np.argmin(np.sqrt(np.sum((data_array[i]-centroids)**2, axis=1)))\n",
    "            Clusters[closest_centroid].append(i)\n",
    "\n",
    "        # print(np.nanmean(data_array[Clusters[0]],axis=0))\n",
    "\n",
    "        for i in range(k):\n",
    "            \n",
    "            centroids[i]=np.average(data_array[Clusters[i]],axis=0)\n",
    "\n",
    "        # print(old_centroids-centroids)\n",
    "        # diff=old_centroids-centroids\n",
    "\n",
    "        # print(centroids)\n",
    "        # print(old_centroids)\n",
    "\n",
    "        if np.equal(old_centroids,centroids).all():\n",
    "            print(_)\n",
    "            break\n",
    "\n",
    "    closest_centroid=np.zeros(number_samples)\n",
    "\n",
    "    for i in range(number_samples):\n",
    "        closest_centroid[i]=np.argmin(np.sqrt(np.sum((data_array[i]-centroids)**2, axis=1)))\n",
    "\n",
    "    return closest_centroid,centroids\n",
    "\n",
    "    # print(centroids)"
   ]
  },
  {
   "cell_type": "code",
   "execution_count": 17,
   "metadata": {},
   "outputs": [],
   "source": [
    "football_features=football_df[['Age','Overall','Value']]\n",
    "football_features=football_features.to_numpy()\n",
    "Clusters=KMeans(football_features,6,10)"
   ]
  },
  {
   "cell_type": "markdown",
   "metadata": {},
   "source": [
    "### Silhouette score and Elbow method"
   ]
  },
  {
   "cell_type": "code",
   "execution_count": 18,
   "metadata": {},
   "outputs": [],
   "source": [
    "from sklearn.metrics import silhouette_score"
   ]
  },
  {
   "cell_type": "code",
   "execution_count": 19,
   "metadata": {},
   "outputs": [
    {
     "name": "stdout",
     "output_type": "stream",
     "text": [
      "k= 4 silhouette_score= 0.4413564028479057 \n",
      "\n",
      "k= 6 silhouette_score= 0.45345780552436404 \n",
      "\n",
      "k= 8 silhouette_score= 0.489310818797552 \n",
      "\n",
      "k= 10 silhouette_score= 0.48078415108514316 \n",
      "\n",
      "k= 12 silhouette_score= 0.48946019717328654 \n",
      "\n",
      "k= 14 silhouette_score= 0.4608854707562916 \n",
      "\n"
     ]
    }
   ],
   "source": [
    "k=4\n",
    "silho=np.zeros(6)\n",
    "for i in range(6):\n",
    "    Clusters=KMeans(football_features,k,10)\n",
    "    silho[i]=silhouette_score(football_features,Clusters)\n",
    "    print(\"k=\",k,\"silhouette_score=\",silho[i],\"\\n\")\n",
    "    k+=2"
   ]
  },
  {
   "cell_type": "code",
   "execution_count": 21,
   "metadata": {},
   "outputs": [
    {
     "data": {
      "image/png": "[encoded data removed]",
      "text/plain": [
       "<Figure size 432x288 with 1 Axes>"
      ]
     },
     "metadata": {
      "needs_background": "light"
     },
     "output_type": "display_data"
    }
   ],
   "source": [
    "plt.plot([4,6,8,10,12,14],silho)\n",
    "plt.xlabel(\"k\")\n",
    "plt.ylabel(\"silhouette score\")\n",
    "plt.show()"
   ]
  },
  {
   "cell_type": "code",
   "execution_count": 29,
   "metadata": {},
   "outputs": [
    {
     "name": "stdout",
     "output_type": "stream",
     "text": [
      "intra_cluster_distance= 5897966.808593778\n"
     ]
    }
   ],
   "source": [
    "k=6\n",
    "Clusters,centroids=KMeans(football_features,k,10)\n",
    "intra_cluster_distance=np.mean(np.sqrt(np.sum((football_features-centroids[Clusters.astype(int)])**2, axis=1)))\n",
    "print(\"intra_cluster_distance=\",intra_cluster_distance)"
   ]
  },
  {
   "cell_type": "code",
   "execution_count": 33,
   "metadata": {},
   "outputs": [
    {
     "name": "stdout",
     "output_type": "stream",
     "text": [
      "inter_cluster_distance= 11983045.413352117\n"
     ]
    }
   ],
   "source": [
    "inter_cluster_distance=0\n",
    "for i in range(k):\n",
    "    for j in range(k):\n",
    "        if i!=j:\n",
    "            inter_cluster_distance_new=np.mean(np.sqrt(np.sum((centroids[i]-centroids[j])**2)))\n",
    "            inter_cluster_distance=np.mean([inter_cluster_distance,inter_cluster_distance_new])\n",
    "\n",
    "print(\"inter_cluster_distance=\",inter_cluster_distance)"
   ]
  },
  {
   "cell_type": "code",
   "execution_count": 37,
   "metadata": {},
   "outputs": [
    {
     "name": "stdout",
     "output_type": "stream",
     "text": [
      "average age of cluster 0 = 25.01704119850187\n",
      "average age of cluster 1 = 25.886770518484074\n",
      "average age of cluster 2 = 25.9503367003367\n",
      "average age of cluster 3 = 26.572393822393824\n",
      "average age of cluster 4 = 25.01469723691946\n",
      "average age of cluster 5 = 23.424930167597765\n"
     ]
    }
   ],
   "source": [
    "for i in range(k):\n",
    "    indices=np.where(Clusters==i)\n",
    "    age=football_features[indices,0]\n",
    "    print(\"average age of cluster\",i,\"=\",np.mean(age))\n",
    "    "
   ]
  },
  {
   "cell_type": "code",
   "execution_count": 38,
   "metadata": {},
   "outputs": [
    {
     "name": "stdout",
     "output_type": "stream",
     "text": [
      "average overall of cluster 0 = 65.661797752809\n",
      "average overall of cluster 1 = 71.49081608928157\n",
      "average overall of cluster 2 = 77.3459595959596\n",
      "average overall of cluster 3 = 74.67374517374517\n",
      "average overall of cluster 4 = 61.8450911228689\n",
      "average overall of cluster 5 = 57.113477653631286\n"
     ]
    }
   ],
   "source": [
    "for i in range(k):\n",
    "    indices=np.where(Clusters==i)\n",
    "    overall=football_features[indices,1]\n",
    "    print(\"average overall of cluster\",i,\"=\",np.mean(overall))"
   ]
  },
  {
   "cell_type": "code",
   "execution_count": 39,
   "metadata": {},
   "outputs": [
    {
     "name": "stdout",
     "output_type": "stream",
     "text": [
      "average value of cluster 0 = 693263.1086142322\n",
      "average value of cluster 1 = 22513136.4798884\n",
      "average value of cluster 2 = 117508417.5084175\n",
      "average value of cluster 3 = 6174710.424710425\n",
      "average value of cluster 4 = 313043.79776602\n",
      "average value of cluster 5 = 109682.2625698324\n"
     ]
    }
   ],
   "source": [
    "for i in range(k):\n",
    "    indices=np.where(Clusters==i)\n",
    "    value=football_features[indices,2]\n",
    "    print(\"average value of cluster\",i,\"=\",np.mean(value))"
   ]
  },
  {
   "cell_type": "code",
   "execution_count": 45,
   "metadata": {},
   "outputs": [],
   "source": [
    "distance_matrix=np.zeros((k,k))\n",
    "for i in range(k):\n",
    "    for j in range(k):\n",
    "        if i!=j:\n",
    "            distance_matrix[i,j]=np.mean(np.sqrt(np.sum((centroids[i]-centroids[j])**2)))\n",
    "distance_matrix=distance_matrix/np.max(distance_matrix)"
   ]
  },
  {
   "cell_type": "code",
   "execution_count": 46,
   "metadata": {},
   "outputs": [
    {
     "name": "stdout",
     "output_type": "stream",
     "text": [
      "+-----------------------+---------------------+--------------------+----------------------+-----------------------+-----------------------+\n",
      "|       Cluster 0       |      Cluster 1      |     Cluster 2      |      Cluster 3       |       Cluster 4       |       Cluster 5       |\n",
      "+-----------------------+---------------------+--------------------+----------------------+-----------------------+-----------------------+\n",
      "|          0.0          | 0.22402890049578597 | 0.993794426057617  | 0.01969591569366409  |  0.003940387681270699 | 0.0062055739430525395 |\n",
      "|  0.22402890049578597  |         0.0         | 0.7697655255618405 | 0.20433298480217316  |  0.22796928817687073  |  0.23023447443820422  |\n",
      "|   0.993794426057617   |  0.7697655255618405 |        0.0         |  0.9740985103640125  |   0.9977348137386899  |          1.0          |\n",
      "|  0.01969591569366409  | 0.20433298480217316 | 0.9740985103640125 |         0.0          |  0.023636303374835535 |  0.02590148963635273  |\n",
      "|  0.003940387681270699 | 0.22796928817687073 | 0.9977348137386899 | 0.023636303374835535 |          0.0          | 0.0022651862619025775 |\n",
      "| 0.0062055739430525395 | 0.23023447443820422 |        1.0         | 0.02590148963635273  | 0.0022651862619025775 |          0.0          |\n",
      "+-----------------------+---------------------+--------------------+----------------------+-----------------------+-----------------------+\n"
     ]
    }
   ],
   "source": [
    "from prettytable import PrettyTable\n",
    "x=PrettyTable()\n",
    "x.field_names=[\"Cluster 0\",\"Cluster 1\",\"Cluster 2\",\"Cluster 3\",\"Cluster 4\",\"Cluster 5\"]\n",
    "for i in range(k):\n",
    "    x.add_row(distance_matrix[i])\n",
    "print(x)"
   ]
  },
  {
   "cell_type": "markdown",
   "metadata": {},
   "source": [
    "* So, the main thing the clustering algorithm separated here is value of each player\n",
    "* Cluster 5 consists of players with cheap value\n",
    "* Cluster 4 consists of players with moderately cheap value\n",
    "* Cluster 3 consists of players with moderate value\n",
    "* Cluster 0 consists of players with moderately expensive value\n",
    "* Cluster 1 consists of players with expensive value\n",
    "* Cluster 2 consists of players with very expensive value and can be considered as outliers because they are present far away from other clusters\n",
    "* As we can see from the table that cluster 2 has been placed far away from other clusters and has centroid to center distance of around 0.9 which is very high compared to other clusters. Hence, we can say that cluster 2 is an outlier.\n",
    "* This is understandable because in football, there are only few top players which fall in this category and they are very expensive. whereas, there are many players who are cheap and moderately cheap. Hence, the clustering algorithm has separated them into different clusters."
   ]
  }
 ],
 "metadata": {
  "kernelspec": {
   "display_name": "Python 3.8.10 64-bit",
   "language": "python",
   "name": "python3"
  },
  "language_info": {
   "codemirror_mode": {
    "name": "ipython",
    "version": 3
   },
   "file_extension": ".py",
   "mimetype": "text/x-python",
   "name": "python",
   "nbconvert_exporter": "python",
   "pygments_lexer": "ipython3",
   "version": "3.8.10"
  },
  "orig_nbformat": 4,
  "vscode": {
   "interpreter": {
    "hash": "916dbcbb3f70747c44a77c7bcd40155683ae19c65e1c03b4aa3499c5328201f1"
   }
  }
 },
 "nbformat": 4,
 "nbformat_minor": 2
}
