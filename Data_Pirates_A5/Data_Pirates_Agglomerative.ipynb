{
 "cells": [
  {
   "cell_type": "markdown",
   "metadata": {},
   "source": [
    "# Assignment 5: "
   ]
  },
  {
   "cell_type": "markdown",
   "metadata": {},
   "source": [
    "## Question 2: Agglomerative Clustering"
   ]
  },
  {
   "cell_type": "markdown",
   "metadata": {},
   "source": [
    "### data pre-processing"
   ]
  },
  {
   "cell_type": "code",
   "execution_count": 2,
   "metadata": {},
   "outputs": [],
   "source": [
    "import numpy as np\n",
    "import pandas as pd \n",
    "from sklearn.model_selection import train_test_split\n",
    "import random\n",
    "from sklearn.datasets import make_blobs\n",
    "import matplotlib.pyplot as plt"
   ]
  },
  {
   "cell_type": "code",
   "execution_count": 3,
   "metadata": {},
   "outputs": [],
   "source": [
    "football_df=pd.read_csv(\"football_data.csv\")"
   ]
  },
  {
   "cell_type": "code",
   "execution_count": 4,
   "metadata": {},
   "outputs": [],
   "source": [
    "football_df=football_df.drop(\"ID\",axis=1)\n",
    "football_df=football_df.drop(\"Unnamed: 0\",axis=1)\n",
    "football_df=football_df.drop(\"Name\",axis=1)\n",
    "football_df=football_df.drop(\"Jersey Number\",axis=1)\n",
    "football_df=football_df.drop(\"Unnamed: 60\",axis=1)"
   ]
  },
  {
   "cell_type": "code",
   "execution_count": 5,
   "metadata": {},
   "outputs": [],
   "source": [
    "football_df=football_df.drop(\"Joined\",axis=1)\n",
    "football_df=football_df.drop(\"Loaned From\",axis=1)"
   ]
  },
  {
   "cell_type": "code",
   "execution_count": 6,
   "metadata": {},
   "outputs": [],
   "source": [
    "\n",
    "football_df['nation_no']=football_df['Nationality'].astype('category').cat.codes\n",
    "football_df['club_no']=football_df['Club'].astype('category').cat.codes\n",
    "football_df['position_no']=football_df['Position'].astype('category').cat.codes"
   ]
  },
  {
   "cell_type": "code",
   "execution_count": 7,
   "metadata": {},
   "outputs": [],
   "source": [
    "football_df=football_df.drop(\"Nationality\",axis=1)\n",
    "football_df=football_df.drop(\"Club\",axis=1)\n",
    "football_df=football_df.drop(\"Position\",axis=1)"
   ]
  },
  {
   "cell_type": "code",
   "execution_count": 8,
   "metadata": {},
   "outputs": [
    {
     "name": "stderr",
     "output_type": "stream",
     "text": [
      "/tmp/ipykernel_23632/2667930555.py:2: FutureWarning: The default value of regex will change from True to False in a future version. In addition, single character regular expressions will *not* be treated as literal strings when regex=True.\n",
      "  football_df['Value']=football_df['Value'].str.replace('.','')\n"
     ]
    }
   ],
   "source": [
    "football_df['Value']=football_df['Value'].str.replace('€','')\n",
    "football_df['Value']=football_df['Value'].str.replace('.','')\n",
    "football_df['Value']=football_df['Value'].str.replace('M','000000')\n",
    "football_df['Value']=football_df['Value'].str.replace('K','000')\n",
    "football_df=football_df[football_df['Value'].str.contains('[a-zA-Z]')==False]\n",
    "football_df['Value']=pd.to_numeric(football_df['Value'])"
   ]
  },
  {
   "cell_type": "code",
   "execution_count": 9,
   "metadata": {},
   "outputs": [],
   "source": [
    "football_df['Wage']=football_df['Wage'].str.replace('€','')\n",
    "football_df['Wage']=football_df['Wage'].str.replace('K','000')\n",
    "football_df=football_df[football_df['Wage'].str.contains('[a-zA-Z]')==False]\n",
    "football_df['Wage']=pd.to_numeric(football_df['Wage'])"
   ]
  },
  {
   "cell_type": "code",
   "execution_count": 10,
   "metadata": {},
   "outputs": [],
   "source": [
    "football_df=football_df.drop(\"Special\",axis=1)\n",
    "football_df=football_df.drop(\"Contract Valid Until\",axis=1)\n",
    "football_df=football_df.drop(\"Body Type\",axis=1)"
   ]
  },
  {
   "cell_type": "code",
   "execution_count": 11,
   "metadata": {},
   "outputs": [],
   "source": [
    "football_df['Height']=football_df['Height'].str.replace(\"'\",\".\")\n",
    "football_df['Height']=pd.to_numeric(football_df['Height'])\n",
    "football_df['Weight']=football_df['Weight'].str.replace(\"lbs\",\"\")\n",
    "football_df['Weight']=pd.to_numeric(football_df['Weight'])\n",
    "football_df['Preferred Foot']=football_df['Preferred Foot'].astype('category').cat.codes"
   ]
  },
  {
   "cell_type": "code",
   "execution_count": 12,
   "metadata": {},
   "outputs": [],
   "source": [
    "football_df['International Reputation']=football_df['International Reputation'].astype('category').cat.codes"
   ]
  },
  {
   "cell_type": "code",
   "execution_count": 13,
   "metadata": {},
   "outputs": [],
   "source": [
    "football_df=football_df.drop(\"Work Rate\",axis=1)\n",
    "football_df=football_df.drop(\"Release Clause\",axis=1)\n",
    "football_df=football_df.drop(\"Real Face\",axis=1)\n",
    "football_df['Crossing']=pd.to_numeric(football_df['Crossing'])"
   ]
  },
  {
   "cell_type": "code",
   "execution_count": 14,
   "metadata": {},
   "outputs": [],
   "source": [
    "football_df=football_df.dropna()"
   ]
  },
  {
   "cell_type": "code",
   "execution_count": 15,
   "metadata": {},
   "outputs": [
    {
     "name": "stdout",
     "output_type": "stream",
     "text": [
      "<class 'pandas.core.frame.DataFrame'>\n",
      "Int64Index: 18131 entries, 0 to 18206\n",
      "Data columns (total 48 columns):\n",
      " #   Column                    Non-Null Count  Dtype  \n",
      "---  ------                    --------------  -----  \n",
      " 0   Age                       18131 non-null  int64  \n",
      " 1   Overall                   18131 non-null  int64  \n",
      " 2   Potential                 18131 non-null  int64  \n",
      " 3   Value                     18131 non-null  int64  \n",
      " 4   Wage                      18131 non-null  int64  \n",
      " 5   Preferred Foot            18131 non-null  int8   \n",
      " 6   International Reputation  18131 non-null  int8   \n",
      " 7   Weak Foot                 18131 non-null  float64\n",
      " 8   Skill Moves               18131 non-null  float64\n",
      " 9   Height                    18131 non-null  float64\n",
      " 10  Weight                    18131 non-null  float64\n",
      " 11  Crossing                  18131 non-null  float64\n",
      " 12  Finishing                 18131 non-null  float64\n",
      " 13  HeadingAccuracy           18131 non-null  float64\n",
      " 14  ShortPassing              18131 non-null  float64\n",
      " 15  Volleys                   18131 non-null  float64\n",
      " 16  Dribbling                 18131 non-null  float64\n",
      " 17  Curve                     18131 non-null  float64\n",
      " 18  FKAccuracy                18131 non-null  float64\n",
      " 19  LongPassing               18131 non-null  float64\n",
      " 20  BallControl               18131 non-null  float64\n",
      " 21  Acceleration              18131 non-null  float64\n",
      " 22  SprintSpeed               18131 non-null  float64\n",
      " 23  Agility                   18131 non-null  float64\n",
      " 24  Reactions                 18131 non-null  float64\n",
      " 25  Balance                   18131 non-null  float64\n",
      " 26  ShotPower                 18131 non-null  float64\n",
      " 27  Jumping                   18131 non-null  float64\n",
      " 28  Stamina                   18131 non-null  float64\n",
      " 29  Strength                  18131 non-null  float64\n",
      " 30  LongShots                 18131 non-null  float64\n",
      " 31  Aggression                18131 non-null  float64\n",
      " 32  Interceptions             18131 non-null  float64\n",
      " 33  Positioning               18131 non-null  float64\n",
      " 34  Vision                    18131 non-null  float64\n",
      " 35  Penalties                 18131 non-null  float64\n",
      " 36  Composure                 18131 non-null  float64\n",
      " 37  Marking                   18131 non-null  float64\n",
      " 38  StandingTackle            18131 non-null  float64\n",
      " 39  SlidingTackle             18131 non-null  float64\n",
      " 40  GKDiving                  18131 non-null  float64\n",
      " 41  GKHandling                18131 non-null  float64\n",
      " 42  GKKicking                 18131 non-null  float64\n",
      " 43  GKPositioning             18131 non-null  float64\n",
      " 44  GKReflexes                18131 non-null  float64\n",
      " 45  nation_no                 18131 non-null  int16  \n",
      " 46  club_no                   18131 non-null  int16  \n",
      " 47  position_no               18131 non-null  int8   \n",
      "dtypes: float64(38), int16(2), int64(5), int8(3)\n",
      "memory usage: 6.2 MB\n"
     ]
    }
   ],
   "source": [
    "football_df.info()"
   ]
  },
  {
   "cell_type": "code",
   "execution_count": 16,
   "metadata": {},
   "outputs": [],
   "source": [
    "football_features=football_df[['Age','Overall','Value']]"
   ]
  },
  {
   "cell_type": "markdown",
   "metadata": {},
   "source": [
    "### Agglomerative Clustering with different linkage methods"
   ]
  },
  {
   "cell_type": "code",
   "execution_count": 17,
   "metadata": {},
   "outputs": [],
   "source": [
    "\n",
    "from sklearn.cluster import AgglomerativeClustering\n",
    "import scipy.cluster.hierarchy as shc\n",
    "from sklearn.metrics import silhouette_score"
   ]
  },
  {
   "cell_type": "code",
   "execution_count": 18,
   "metadata": {},
   "outputs": [
    {
     "name": "stdout",
     "output_type": "stream",
     "text": [
      "silhouette score for single linkage= 0.957461569804838\n"
     ]
    }
   ],
   "source": [
    "single_linkage=AgglomerativeClustering(n_clusters=6,affinity='euclidean',linkage='single')\n",
    "single_linkage.fit_predict(football_features)\n",
    "print(\"silhouette score for single linkage=\",silhouette_score(football_features,single_linkage.labels_))\n"
   ]
  },
  {
   "cell_type": "code",
   "execution_count": 19,
   "metadata": {},
   "outputs": [
    {
     "name": "stdout",
     "output_type": "stream",
     "text": [
      "silhouette score for complete linkage= 0.8937463438344339\n"
     ]
    }
   ],
   "source": [
    "complete_linkage=AgglomerativeClustering(n_clusters=6,affinity='euclidean',linkage='complete')\n",
    "complete_linkage.fit_predict(football_features)\n",
    "print(\"silhouette score for complete linkage=\",silhouette_score(football_features,complete_linkage.labels_))"
   ]
  },
  {
   "cell_type": "code",
   "execution_count": 20,
   "metadata": {},
   "outputs": [
    {
     "name": "stdout",
     "output_type": "stream",
     "text": [
      "silhouette score for average linkage= 0.8890134893370335\n"
     ]
    }
   ],
   "source": [
    "average_linkage=AgglomerativeClustering(n_clusters=6,affinity='euclidean',linkage='average')\n",
    "average_linkage.fit_predict(football_features)\n",
    "print(\"silhouette score for average linkage=\",silhouette_score(football_features,average_linkage.labels_))"
   ]
  },
  {
   "cell_type": "code",
   "execution_count": 21,
   "metadata": {},
   "outputs": [
    {
     "name": "stdout",
     "output_type": "stream",
     "text": [
      "silhouette score for ward linkage= 0.794483884827994\n"
     ]
    }
   ],
   "source": [
    "ward_linkage=AgglomerativeClustering(n_clusters=6,affinity='euclidean',linkage='ward')\n",
    "ward_linkage.fit_predict(football_features)\n",
    "print(\"silhouette score for ward linkage=\",silhouette_score(football_features,ward_linkage.labels_))"
   ]
  },
  {
   "cell_type": "code",
   "execution_count": 22,
   "metadata": {},
   "outputs": [
    {
     "data": {
      "image/png": "[encoded data removed]",
      "text/plain": [
       "<Figure size 720x504 with 1 Axes>"
      ]
     },
     "metadata": {
      "needs_background": "light"
     },
     "output_type": "display_data"
    }
   ],
   "source": [
    "# plot dendrogram of single linkage\n",
    "plt.figure(figsize=(10, 7))\n",
    "plt.title(\"Football Dendograms with single linkage\")\n",
    "dend = shc.dendrogram(shc.linkage(football_features, method='single'),truncate_mode='level',p=10)\n",
    "plt.axhline(y=60000000, color='r', linestyle='--')\n",
    "plt.show()"
   ]
  },
  {
   "cell_type": "code",
   "execution_count": 23,
   "metadata": {},
   "outputs": [
    {
     "data": {
      "image/png": "[encoded data removed]",
      "text/plain": [
       "<Figure size 720x504 with 1 Axes>"
      ]
     },
     "metadata": {
      "needs_background": "light"
     },
     "output_type": "display_data"
    }
   ],
   "source": [
    "# plot dendrogram of complete linkage\n",
    "plt.figure(figsize=(10, 7))\n",
    "plt.title(\"Football Dendograms with complete linkage\")\n",
    "dend = shc.dendrogram(shc.linkage(football_features, method='complete'),truncate_mode='level',p=10)\n",
    "plt.axhline(y=60000000, color='r', linestyle='--')\n",
    "plt.show()\n"
   ]
  },
  {
   "cell_type": "code",
   "execution_count": 24,
   "metadata": {},
   "outputs": [
    {
     "data": {
      "image/png": "[encoded data removed]",
      "text/plain": [
       "<Figure size 720x504 with 1 Axes>"
      ]
     },
     "metadata": {
      "needs_background": "light"
     },
     "output_type": "display_data"
    }
   ],
   "source": [
    "# plot dendrogram of average linkage\n",
    "plt.figure(figsize=(10, 7))\n",
    "plt.title(\"Football Dendograms with average linkage\")\n",
    "dend = shc.dendrogram(shc.linkage(football_features, method='average'),truncate_mode='level',p=10)\n",
    "plt.axhline(y=60000000, color='r', linestyle='--')\n",
    "plt.show()\n"
   ]
  },
  {
   "cell_type": "code",
   "execution_count": 25,
   "metadata": {},
   "outputs": [
    {
     "data": {
      "image/png": "[encoded data removed]",
      "text/plain": [
       "<Figure size 720x504 with 1 Axes>"
      ]
     },
     "metadata": {
      "needs_background": "light"
     },
     "output_type": "display_data"
    }
   ],
   "source": [
    "# plot dendrogram of ward linkage\n",
    "plt.figure(figsize=(10, 7))\n",
    "plt.title(\"Football Dendograms with ward linkage\")\n",
    "dend = shc.dendrogram(shc.linkage(football_features, method='ward'),truncate_mode='level',p=10)\n",
    "plt.axhline(y=60000000, color='r', linestyle='--')\n",
    "plt.show()\n"
   ]
  },
  {
   "cell_type": "markdown",
   "metadata": {},
   "source": [
    "### Average intra-cluster distance and average inter-cluster distance"
   ]
  },
  {
   "cell_type": "code",
   "execution_count": 32,
   "metadata": {},
   "outputs": [
    {
     "name": "stdout",
     "output_type": "stream",
     "text": [
      "intra class distance for single linkage= 240000038.2222222\n",
      "intra class distance for complete linkage= 62049418.10123456\n",
      "intra class distance for average linkage= 119918069.38797814\n",
      "intra class distance for ward linkage= 194798017.44444445\n"
     ]
    }
   ],
   "source": [
    "indices = [np.where(single_linkage.labels_ == i)[0] for i in range(6)]\n",
    "intra_class_distance_single_linkage=football_features.iloc[indices[0]].mean(axis=0).mean(axis=0)\n",
    "indices = [np.where(complete_linkage.labels_ == i)[0] for i in range(6)]\n",
    "intra_class_distance_complete_linkage=football_features.iloc[indices[0]].mean(axis=0).mean(axis=0)\n",
    "indices = [np.where(average_linkage.labels_ == i)[0] for i in range(6)]\n",
    "intra_class_distance_average_linkage=football_features.iloc[indices[0]].mean(axis=0).mean(axis=0)\n",
    "indices = [np.where(ward_linkage.labels_ == i)[0] for i in range(6)]\n",
    "intra_class_distance_ward_linkage=football_features.iloc[indices[0]].mean(axis=0).mean(axis=0)\n",
    "print(\"intra class distance for single linkage=\",intra_class_distance_single_linkage)\n",
    "print(\"intra class distance for complete linkage=\",intra_class_distance_complete_linkage)\n",
    "print(\"intra class distance for average linkage=\",intra_class_distance_average_linkage)\n",
    "print(\"intra class distance for ward linkage=\",intra_class_distance_ward_linkage)\n"
   ]
  },
  {
   "cell_type": "code",
   "execution_count": 34,
   "metadata": {},
   "outputs": [
    {
     "name": "stdout",
     "output_type": "stream",
     "text": [
      "inter class distance for single linkage= 88210697.70086294\n",
      "inter class distance for complete linkage= 175909593.77425453\n",
      "inter class distance for average linkage= 232904067.5030635\n",
      "inter class distance for ward linkage= 66284008.53438668\n"
     ]
    }
   ],
   "source": [
    "indices = [np.where(single_linkage.labels_ == i)[0] for i in range(6)]\n",
    "inter_class_distance_singe_inkage=0\n",
    "for i in range(6):\n",
    "    for j in range(i+1,6):\n",
    "        if i!=j:\n",
    "            inter_class_distance_singe_inkage_new=np.abs(football_features.iloc[indices[i]].mean(axis=0).mean(axis=0)-football_features.iloc[indices[j]].mean(axis=0).mean(axis=0))\n",
    "            inter_class_distance_singe_inkage=np.mean([inter_class_distance_singe_inkage,inter_class_distance_singe_inkage_new])\n",
    "print(\"inter class distance for single linkage=\",inter_class_distance_singe_inkage)\n",
    "\n",
    "indices = [np.where(complete_linkage.labels_ == i)[0] for i in range(6)]\n",
    "inter_class_distance_complete_inkage=0\n",
    "for i in range(6):\n",
    "    for j in range(i+1,6):\n",
    "        if i!=j:\n",
    "            inter_class_distance_complete_inkage_new=np.abs(football_features.iloc[indices[i]].mean(axis=0).mean(axis=0)-football_features.iloc[indices[j]].mean(axis=0).mean(axis=0))\n",
    "            inter_class_distance_complete_inkage=np.mean([inter_class_distance_complete_inkage,inter_class_distance_complete_inkage_new])\n",
    "print(\"inter class distance for complete linkage=\",inter_class_distance_complete_inkage)\n",
    "\n",
    "indices = [np.where(average_linkage.labels_ == i)[0] for i in range(6)]\n",
    "inter_class_distance_average_inkage=0\n",
    "for i in range(6):\n",
    "    for j in range(i+1,6):\n",
    "        if i!=j:\n",
    "            inter_class_distance_average_inkage_new=np.abs(football_features.iloc[indices[i]].mean(axis=0).mean(axis=0)-football_features.iloc[indices[j]].mean(axis=0).mean(axis=0))\n",
    "            inter_class_distance_average_inkage=np.mean([inter_class_distance_average_inkage,inter_class_distance_average_inkage_new])\n",
    "print(\"inter class distance for average linkage=\",inter_class_distance_average_inkage)\n",
    "\n",
    "indices = [np.where(ward_linkage.labels_ == i)[0] for i in range(6)]\n",
    "inter_class_distance_ward_inkage=0\n",
    "for i in range(6):\n",
    "    for j in range(i+1,6):\n",
    "        if i!=j:\n",
    "            inter_class_distance_ward_inkage_new=np.abs(football_features.iloc[indices[i]].mean(axis=0).mean(axis=0)-football_features.iloc[indices[j]].mean(axis=0).mean(axis=0))\n",
    "            inter_class_distance_ward_inkage=np.mean([inter_class_distance_ward_inkage,inter_class_distance_ward_inkage_new])\n",
    "print(\"inter class distance for ward linkage=\",inter_class_distance_ward_inkage)"
   ]
  },
  {
   "cell_type": "markdown",
   "metadata": {},
   "source": [
    "### distance matrix for single linkage"
   ]
  },
  {
   "cell_type": "code",
   "execution_count": 38,
   "metadata": {},
   "outputs": [],
   "source": [
    "k=6\n",
    "indices = [np.where(single_linkage.labels_ == i)[0] for i in range(k)]\n",
    "distance_matrix=np.zeros((k,k))\n",
    "for i in range(k):\n",
    "    for j in range(k):\n",
    "        if i!=j:\n",
    "            distance_matrix[i,j]=np.abs(football_features.iloc[indices[i]].mean(axis=0).mean(axis=0)-football_features.iloc[indices[j]].mean(axis=0).mean(axis=0))\n",
    "distance_matrix=distance_matrix/np.max(distance_matrix)"
   ]
  },
  {
   "cell_type": "code",
   "execution_count": 39,
   "metadata": {},
   "outputs": [
    {
     "name": "stdout",
     "output_type": "stream",
     "text": [
      "+---------------------+--------------------+---------------------+---------------------+---------------------+---------------------+\n",
      "|      Cluster 0      |     Cluster 1      |      Cluster 2      |      Cluster 3      |      Cluster 4      |      Cluster 5      |\n",
      "+---------------------+--------------------+---------------------+---------------------+---------------------+---------------------+\n",
      "|         0.0         | 0.6032558563490588 | 0.12542234322129162 | 0.39674414365094124 | 0.09811951727215691 |  0.3284870931405267 |\n",
      "|  0.6032558563490588 |        0.0         |  0.4778335131277672 |         1.0         |  0.7013753736212157 |  0.9317429494895855 |\n",
      "| 0.12542234322129162 | 0.4778335131277672 |         0.0         |  0.5221664868722329 |  0.2235418604934485 |  0.4539094363618183 |\n",
      "| 0.39674414365094124 |        1.0         |  0.5221664868722329 |         0.0         | 0.29862462637878434 | 0.06825705051041456 |\n",
      "| 0.09811951727215691 | 0.7013753736212157 |  0.2235418604934485 | 0.29862462637878434 |         0.0         | 0.23036757586836978 |\n",
      "|  0.3284870931405267 | 0.9317429494895855 |  0.4539094363618183 | 0.06825705051041456 | 0.23036757586836978 |         0.0         |\n",
      "+---------------------+--------------------+---------------------+---------------------+---------------------+---------------------+\n"
     ]
    }
   ],
   "source": [
    "from prettytable import PrettyTable\n",
    "x=PrettyTable()\n",
    "x.field_names=[\"Cluster 0\",\"Cluster 1\",\"Cluster 2\",\"Cluster 3\",\"Cluster 4\",\"Cluster 5\"]\n",
    "for i in range(k):\n",
    "    x.add_row(distance_matrix[i])\n",
    "print(x)"
   ]
  },
  {
   "cell_type": "markdown",
   "metadata": {},
   "source": [
    "### distance matrix for complete linkage"
   ]
  },
  {
   "cell_type": "code",
   "execution_count": 40,
   "metadata": {},
   "outputs": [],
   "source": [
    "indices = [np.where(complete_linkage.labels_ == i)[0] for i in range(k)]\n",
    "distance_matrix=np.zeros((k,k))\n",
    "for i in range(k):\n",
    "    for j in range(k):\n",
    "        if i!=j:\n",
    "            distance_matrix[i,j]=np.abs(football_features.iloc[indices[i]].mean(axis=0).mean(axis=0)-football_features.iloc[indices[j]].mean(axis=0).mean(axis=0))\n",
    "distance_matrix=distance_matrix/np.max(distance_matrix)\n"
   ]
  },
  {
   "cell_type": "code",
   "execution_count": 41,
   "metadata": {},
   "outputs": [
    {
     "name": "stdout",
     "output_type": "stream",
     "text": [
      "+---------------------+---------------------+--------------------+---------------------+---------------------+---------------------+\n",
      "|      Cluster 0      |      Cluster 1      |     Cluster 2      |      Cluster 3      |      Cluster 4      |      Cluster 5      |\n",
      "+---------------------+---------------------+--------------------+---------------------+---------------------+---------------------+\n",
      "|         0.0         |  0.3655621936755854 | 0.1553851234317555 | 0.18951554102121057 |  0.5120899762017634 |  0.8446148765682445 |\n",
      "|  0.3655621936755854 |         0.0         | 0.5209473171073409 | 0.17604665265437483 | 0.14652778252617807 | 0.47905268289265907 |\n",
      "|  0.1553851234317555 |  0.5209473171073409 |        0.0         |  0.3449006644529661 |  0.667475099633519  |         1.0         |\n",
      "| 0.18951554102121057 | 0.17604665265437483 | 0.3449006644529661 |         0.0         |  0.3225744351805529 |  0.6550993355470339 |\n",
      "|  0.5120899762017634 | 0.14652778252617807 | 0.667475099633519  |  0.3225744351805529 |         0.0         |  0.332524900366481  |\n",
      "|  0.8446148765682445 | 0.47905268289265907 |        1.0         |  0.6550993355470339 |  0.332524900366481  |         0.0         |\n",
      "+---------------------+---------------------+--------------------+---------------------+---------------------+---------------------+\n"
     ]
    }
   ],
   "source": [
    "x=PrettyTable()\n",
    "x.field_names=[\"Cluster 0\",\"Cluster 1\",\"Cluster 2\",\"Cluster 3\",\"Cluster 4\",\"Cluster 5\"]\n",
    "for i in range(k):\n",
    "    x.add_row(distance_matrix[i])\n",
    "print(x)\n",
    "    "
   ]
  },
  {
   "cell_type": "markdown",
   "metadata": {},
   "source": [
    "### distance matrix for average linkage"
   ]
  },
  {
   "cell_type": "code",
   "execution_count": 42,
   "metadata": {},
   "outputs": [],
   "source": [
    "indices = [np.where(average_linkage.labels_ == i)[0] for i in range(k)]\n",
    "distance_matrix=np.zeros((k,k))\n",
    "for i in range(k):\n",
    "    for j in range(k):\n",
    "        if i!=j:\n",
    "            distance_matrix[i,j]=np.abs(football_features.iloc[indices[i]].mean(axis=0).mean(axis=0)-football_features.iloc[indices[j]].mean(axis=0).mean(axis=0))\n",
    "distance_matrix=distance_matrix/np.max(distance_matrix)\n"
   ]
  },
  {
   "cell_type": "code",
   "execution_count": 43,
   "metadata": {},
   "outputs": [
    {
     "name": "stdout",
     "output_type": "stream",
     "text": [
      "+---------------------+---------------------+---------------------+---------------------+---------------------+---------------------+\n",
      "|      Cluster 0      |      Cluster 1      |      Cluster 2      |      Cluster 3      |      Cluster 4      |      Cluster 5      |\n",
      "+---------------------+---------------------+---------------------+---------------------+---------------------+---------------------+\n",
      "|         0.0         |  0.2696882564542827 | 0.15513016946861713 |  0.6918848926781834 | 0.30811510732181663 |  0.4187420224402016 |\n",
      "|  0.2696882564542827 |         0.0         |  0.4248184259228998 | 0.42219663622390075 |  0.5778033637760993 | 0.14905376598591893 |\n",
      "| 0.15513016946861713 |  0.4248184259228998 |         0.0         |  0.8470150621468007 | 0.15298493785319953 |  0.5738721919088188 |\n",
      "|  0.6918848926781834 | 0.42219663622390075 |  0.8470150621468007 |         0.0         |         1.0         | 0.27314287023798184 |\n",
      "| 0.30811510732181663 |  0.5778033637760993 | 0.15298493785319953 |         1.0         |         0.0         |  0.7268571297620182 |\n",
      "|  0.4187420224402016 | 0.14905376598591893 |  0.5738721919088188 | 0.27314287023798184 |  0.7268571297620182 |         0.0         |\n",
      "+---------------------+---------------------+---------------------+---------------------+---------------------+---------------------+\n"
     ]
    }
   ],
   "source": [
    "x=PrettyTable()\n",
    "x.field_names=[\"Cluster 0\",\"Cluster 1\",\"Cluster 2\",\"Cluster 3\",\"Cluster 4\",\"Cluster 5\"]\n",
    "for i in range(k):\n",
    "    x.add_row(distance_matrix[i])\n",
    "print(x)\n"
   ]
  },
  {
   "cell_type": "markdown",
   "metadata": {},
   "source": [
    "### distance matrix for centroid linkage"
   ]
  },
  {
   "cell_type": "code",
   "execution_count": 44,
   "metadata": {},
   "outputs": [],
   "source": [
    "indices = [np.where(ward_linkage.labels_ == i)[0] for i in range(k)]\n",
    "distance_matrix=np.zeros((k,k))\n",
    "for i in range(k):\n",
    "    for j in range(k):\n",
    "        if i!=j:\n",
    "            distance_matrix[i,j]=np.abs(football_features.iloc[indices[i]].mean(axis=0).mean(axis=0)-football_features.iloc[indices[j]].mean(axis=0).mean(axis=0))\n",
    "distance_matrix=distance_matrix/np.max(distance_matrix)"
   ]
  },
  {
   "cell_type": "code",
   "execution_count": 45,
   "metadata": {},
   "outputs": [
    {
     "name": "stdout",
     "output_type": "stream",
     "text": [
      "+--------------------+---------------------+---------------------+---------------------+---------------------+---------------------+\n",
      "|     Cluster 0      |      Cluster 1      |      Cluster 2      |      Cluster 3      |      Cluster 4      |      Cluster 5      |\n",
      "+--------------------+---------------------+---------------------+---------------------+---------------------+---------------------+\n",
      "|        0.0         |  0.9172406620313419 |  0.9725047544887597 |  0.7839675885942066 |  0.5327257816454499 |         1.0         |\n",
      "| 0.9172406620313419 |         0.0         | 0.05526409245741791 | 0.13327307343713526 |  0.3845148803858919 | 0.08275933796865821 |\n",
      "| 0.9725047544887597 | 0.05526409245741791 |         0.0         | 0.18853716589455313 | 0.43977897284330986 | 0.02749524551124031 |\n",
      "| 0.7839675885942066 | 0.13327307343713526 | 0.18853716589455313 |         0.0         | 0.25124180694875664 |  0.2160324114057935 |\n",
      "| 0.5327257816454499 |  0.3845148803858919 | 0.43977897284330986 | 0.25124180694875664 |         0.0         | 0.46727421835455013 |\n",
      "|        1.0         | 0.08275933796865821 | 0.02749524551124031 |  0.2160324114057935 | 0.46727421835455013 |         0.0         |\n",
      "+--------------------+---------------------+---------------------+---------------------+---------------------+---------------------+\n"
     ]
    }
   ],
   "source": [
    "x=PrettyTable()\n",
    "x.field_names=[\"Cluster 0\",\"Cluster 1\",\"Cluster 2\",\"Cluster 3\",\"Cluster 4\",\"Cluster 5\"]\n",
    "for i in range(k):\n",
    "    x.add_row(distance_matrix[i])\n",
    "print(x)"
   ]
  }
 ],
 "metadata": {
  "kernelspec": {
   "display_name": "Python 3.8.10 64-bit",
   "language": "python",
   "name": "python3"
  },
  "language_info": {
   "codemirror_mode": {
    "name": "ipython",
    "version": 3
   },
   "file_extension": ".py",
   "mimetype": "text/x-python",
   "name": "python",
   "nbconvert_exporter": "python",
   "pygments_lexer": "ipython3",
   "version": "3.8.10"
  },
  "orig_nbformat": 4,
  "vscode": {
   "interpreter": {
    "hash": "916dbcbb3f70747c44a77c7bcd40155683ae19c65e1c03b4aa3499c5328201f1"
   }
  }
 },
 "nbformat": 4,
 "nbformat_minor": 2
}
