{
 "cells": [
  {
   "cell_type": "code",
   "execution_count": 118,
   "metadata": {},
   "outputs": [
    {
     "data": {
      "text/html": [
       "<div>\n",
       "<style scoped>\n",
       "    .dataframe tbody tr th:only-of-type {\n",
       "        vertical-align: middle;\n",
       "    }\n",
       "\n",
       "    .dataframe tbody tr th {\n",
       "        vertical-align: top;\n",
       "    }\n",
       "\n",
       "    .dataframe thead th {\n",
       "        text-align: right;\n",
       "    }\n",
       "</style>\n",
       "<table border=\"1\" class=\"dataframe\">\n",
       "  <thead>\n",
       "    <tr style=\"text-align: right;\">\n",
       "      <th></th>\n",
       "      <th>Unnamed: 0</th>\n",
       "      <th>ID</th>\n",
       "      <th>Name</th>\n",
       "      <th>Age</th>\n",
       "      <th>Nationality</th>\n",
       "      <th>Overall</th>\n",
       "      <th>Potential</th>\n",
       "      <th>Club</th>\n",
       "      <th>Value</th>\n",
       "      <th>Wage</th>\n",
       "      <th>...</th>\n",
       "      <th>Marking</th>\n",
       "      <th>StandingTackle</th>\n",
       "      <th>SlidingTackle</th>\n",
       "      <th>GKDiving</th>\n",
       "      <th>GKHandling</th>\n",
       "      <th>GKKicking</th>\n",
       "      <th>GKPositioning</th>\n",
       "      <th>GKReflexes</th>\n",
       "      <th>Release Clause</th>\n",
       "      <th>Unnamed: 60</th>\n",
       "    </tr>\n",
       "  </thead>\n",
       "  <tbody>\n",
       "    <tr>\n",
       "      <th>0</th>\n",
       "      <td>0</td>\n",
       "      <td>158023</td>\n",
       "      <td>L. Messi</td>\n",
       "      <td>31</td>\n",
       "      <td>Argentina</td>\n",
       "      <td>94</td>\n",
       "      <td>94</td>\n",
       "      <td>FC Barcelona</td>\n",
       "      <td>€110.5M</td>\n",
       "      <td>€565K</td>\n",
       "      <td>...</td>\n",
       "      <td>33.0</td>\n",
       "      <td>28.0</td>\n",
       "      <td>26.0</td>\n",
       "      <td>6.0</td>\n",
       "      <td>11.0</td>\n",
       "      <td>15.0</td>\n",
       "      <td>14.0</td>\n",
       "      <td>8.0</td>\n",
       "      <td>€226.5M</td>\n",
       "      <td>NaN</td>\n",
       "    </tr>\n",
       "    <tr>\n",
       "      <th>1</th>\n",
       "      <td>1</td>\n",
       "      <td>20801</td>\n",
       "      <td>Cristiano Ronaldo</td>\n",
       "      <td>33</td>\n",
       "      <td>Portugal</td>\n",
       "      <td>94</td>\n",
       "      <td>94</td>\n",
       "      <td>Juventus</td>\n",
       "      <td>€77M</td>\n",
       "      <td>€405K</td>\n",
       "      <td>...</td>\n",
       "      <td>28.0</td>\n",
       "      <td>31.0</td>\n",
       "      <td>23.0</td>\n",
       "      <td>7.0</td>\n",
       "      <td>11.0</td>\n",
       "      <td>15.0</td>\n",
       "      <td>14.0</td>\n",
       "      <td>11.0</td>\n",
       "      <td>€127.1M</td>\n",
       "      <td>NaN</td>\n",
       "    </tr>\n",
       "    <tr>\n",
       "      <th>2</th>\n",
       "      <td>2</td>\n",
       "      <td>190871</td>\n",
       "      <td>Neymar Jr</td>\n",
       "      <td>26</td>\n",
       "      <td>Brazil</td>\n",
       "      <td>92</td>\n",
       "      <td>93</td>\n",
       "      <td>Paris Saint-Germain</td>\n",
       "      <td>€118.5M</td>\n",
       "      <td>€290K</td>\n",
       "      <td>...</td>\n",
       "      <td>27.0</td>\n",
       "      <td>24.0</td>\n",
       "      <td>33.0</td>\n",
       "      <td>9.0</td>\n",
       "      <td>9.0</td>\n",
       "      <td>15.0</td>\n",
       "      <td>15.0</td>\n",
       "      <td>11.0</td>\n",
       "      <td>€228.1M</td>\n",
       "      <td>NaN</td>\n",
       "    </tr>\n",
       "    <tr>\n",
       "      <th>3</th>\n",
       "      <td>3</td>\n",
       "      <td>193080</td>\n",
       "      <td>De Gea</td>\n",
       "      <td>27</td>\n",
       "      <td>Spain</td>\n",
       "      <td>91</td>\n",
       "      <td>93</td>\n",
       "      <td>Manchester United</td>\n",
       "      <td>€72M</td>\n",
       "      <td>€260K</td>\n",
       "      <td>...</td>\n",
       "      <td>15.0</td>\n",
       "      <td>21.0</td>\n",
       "      <td>13.0</td>\n",
       "      <td>90.0</td>\n",
       "      <td>85.0</td>\n",
       "      <td>87.0</td>\n",
       "      <td>88.0</td>\n",
       "      <td>94.0</td>\n",
       "      <td>€138.6M</td>\n",
       "      <td>NaN</td>\n",
       "    </tr>\n",
       "    <tr>\n",
       "      <th>4</th>\n",
       "      <td>4</td>\n",
       "      <td>192985</td>\n",
       "      <td>K. De Bruyne</td>\n",
       "      <td>27</td>\n",
       "      <td>Belgium</td>\n",
       "      <td>91</td>\n",
       "      <td>92</td>\n",
       "      <td>Manchester City</td>\n",
       "      <td>€102M</td>\n",
       "      <td>€355K</td>\n",
       "      <td>...</td>\n",
       "      <td>68.0</td>\n",
       "      <td>58.0</td>\n",
       "      <td>51.0</td>\n",
       "      <td>15.0</td>\n",
       "      <td>13.0</td>\n",
       "      <td>5.0</td>\n",
       "      <td>10.0</td>\n",
       "      <td>13.0</td>\n",
       "      <td>€196.4M</td>\n",
       "      <td>NaN</td>\n",
       "    </tr>\n",
       "  </tbody>\n",
       "</table>\n",
       "<p>5 rows × 61 columns</p>\n",
       "</div>"
      ],
      "text/plain": [
       "   Unnamed: 0      ID               Name  Age Nationality  Overall  Potential  \\\n",
       "0           0  158023           L. Messi   31   Argentina       94         94   \n",
       "1           1   20801  Cristiano Ronaldo   33    Portugal       94         94   \n",
       "2           2  190871          Neymar Jr   26      Brazil       92         93   \n",
       "3           3  193080             De Gea   27       Spain       91         93   \n",
       "4           4  192985       K. De Bruyne   27     Belgium       91         92   \n",
       "\n",
       "                  Club    Value   Wage  ... Marking StandingTackle  \\\n",
       "0         FC Barcelona  €110.5M  €565K  ...    33.0           28.0   \n",
       "1             Juventus     €77M  €405K  ...    28.0           31.0   \n",
       "2  Paris Saint-Germain  €118.5M  €290K  ...    27.0           24.0   \n",
       "3    Manchester United     €72M  €260K  ...    15.0           21.0   \n",
       "4      Manchester City    €102M  €355K  ...    68.0           58.0   \n",
       "\n",
       "  SlidingTackle  GKDiving  GKHandling GKKicking GKPositioning GKReflexes  \\\n",
       "0          26.0       6.0        11.0      15.0          14.0        8.0   \n",
       "1          23.0       7.0        11.0      15.0          14.0       11.0   \n",
       "2          33.0       9.0         9.0      15.0          15.0       11.0   \n",
       "3          13.0      90.0        85.0      87.0          88.0       94.0   \n",
       "4          51.0      15.0        13.0       5.0          10.0       13.0   \n",
       "\n",
       "  Release Clause Unnamed: 60  \n",
       "0        €226.5M         NaN  \n",
       "1        €127.1M         NaN  \n",
       "2        €228.1M         NaN  \n",
       "3        €138.6M         NaN  \n",
       "4        €196.4M         NaN  \n",
       "\n",
       "[5 rows x 61 columns]"
      ]
     },
     "execution_count": 118,
     "metadata": {},
     "output_type": "execute_result"
    }
   ],
   "source": [
    "import pandas as pd\n",
    "\n",
    "data = pd.read_csv('./Dataset1/football_data.csv')\n",
    "data.head()"
   ]
  },
  {
   "cell_type": "code",
   "execution_count": 119,
   "metadata": {},
   "outputs": [
    {
     "data": {
      "text/plain": [
       "Index(['Unnamed: 0', 'ID', 'Name', 'Age', 'Nationality', 'Overall',\n",
       "       'Potential', 'Club', 'Value', 'Wage', 'Special', 'Preferred Foot',\n",
       "       'International Reputation', 'Weak Foot', 'Skill Moves', 'Work Rate',\n",
       "       'Body Type', 'Real Face', 'Position', 'Jersey Number', 'Joined',\n",
       "       'Loaned From', 'Contract Valid Until', 'Height', 'Weight', 'Crossing',\n",
       "       'Finishing', 'HeadingAccuracy', 'ShortPassing', 'Volleys', 'Dribbling',\n",
       "       'Curve', 'FKAccuracy', 'LongPassing', 'BallControl', 'Acceleration',\n",
       "       'SprintSpeed', 'Agility', 'Reactions', 'Balance', 'ShotPower',\n",
       "       'Jumping', 'Stamina', 'Strength', 'LongShots', 'Aggression',\n",
       "       'Interceptions', 'Positioning', 'Vision', 'Penalties', 'Composure',\n",
       "       'Marking', 'StandingTackle', 'SlidingTackle', 'GKDiving', 'GKHandling',\n",
       "       'GKKicking', 'GKPositioning', 'GKReflexes', 'Release Clause',\n",
       "       'Unnamed: 60'],\n",
       "      dtype='object')"
      ]
     },
     "execution_count": 119,
     "metadata": {},
     "output_type": "execute_result"
    }
   ],
   "source": [
    "data.columns"
   ]
  },
  {
   "cell_type": "code",
   "execution_count": 120,
   "metadata": {},
   "outputs": [],
   "source": [
    "data.drop(columns=['Unnamed: 0', 'ID', 'Name', 'Loaned From', 'Unnamed: 60'], inplace=True)"
   ]
  },
  {
   "cell_type": "code",
   "execution_count": 121,
   "metadata": {},
   "outputs": [],
   "source": [
    "data['Contract Valid Until'] = [x[-4: ] if len(str(x)) > 4 else x for x in data['Contract Valid Until']]"
   ]
  },
  {
   "cell_type": "code",
   "execution_count": 122,
   "metadata": {},
   "outputs": [],
   "source": [
    "from sklearn.preprocessing import LabelEncoder\n",
    "\n",
    "encoder = LabelEncoder()\n",
    "\n",
    "data['Nationality'] = encoder.fit_transform(data['Nationality'])\n",
    "data['Club'] = encoder.fit_transform(data['Club'])\n",
    "data['Value'] = encoder.fit_transform(data['Value'])\n",
    "data['Wage'] = encoder.fit_transform(data['Wage'])\n",
    "data['Preferred Foot'] = encoder.fit_transform(data['Preferred Foot'])\n",
    "data['Work Rate'] = encoder.fit_transform(data['Work Rate'])\n",
    "data['Body Type'] = encoder.fit_transform(data['Body Type'])\n",
    "data['Position'] = encoder.fit_transform(data['Position'])\n",
    "data['Real Face'] = encoder.fit_transform(data['Real Face'])\n",
    "data['Joined'] = encoder.fit_transform(data['Joined'])\n",
    "data['Weight'] = encoder.fit_transform(data['Weight'])\n",
    "data['Height'] = encoder.fit_transform(data['Height'])\n",
    "data['Release Clause'] = encoder.fit_transform(data['Release Clause'])\n"
   ]
  },
  {
   "cell_type": "code",
   "execution_count": 123,
   "metadata": {},
   "outputs": [],
   "source": [
    "for index, row in data.iterrows():\n",
    "    try:\n",
    "        data.loc[index] = row.astype('float')\n",
    "    except ValueError as e:\n",
    "        data = data.drop(index, axis=0)\n",
    "\n",
    "data = data.reset_index(drop=True)"
   ]
  },
  {
   "cell_type": "code",
   "execution_count": 143,
   "metadata": {},
   "outputs": [],
   "source": [
    "data = data.fillna(data.mean())\n"
   ]
  },
  {
   "cell_type": "code",
   "execution_count": 144,
   "metadata": {},
   "outputs": [],
   "source": [
    "import numpy as np\n",
    "import random\n",
    "from collections import Counter\n",
    "\n",
    "def EucledianDistance(x1, x2):\n",
    "    return np.sqrt(np.sum((x1 - x2)**2))\n",
    "\n",
    "def isSimilar(a, b):\n",
    "    if len(a) != len(b):\n",
    "        return False\n",
    "\n",
    "    flag = True\n",
    "    for i in range(len(a)):\n",
    "        if a[i] != b[i]:\n",
    "            flag = False\n",
    "            break\n",
    "    return flag\n",
    "\n",
    "class KMeans:\n",
    "    def __init__(self, k=3):\n",
    "        self.k = k\n",
    "\n",
    "    def fit(self, X):\n",
    "        self.X = X\n",
    "        self.centroids = []\n",
    "        self.clusters = [-1 for _ in range(len(self.X))]\n",
    "        # randomly choose k tuples from the dataframe X\n",
    "        for i in range(self.k):\n",
    "            self.centroids.append(self.X.iloc[random.randint(0, len(self.X))])\n",
    "\n",
    "        while True:\n",
    "            newClusters = []\n",
    "            self.wcss = 0\n",
    "            for idx, x in X.iterrows():\n",
    "                distances = [EucledianDistance(x, centroid) for centroid in self.centroids]\n",
    "                newClusters.append(np.argmin(distances))\n",
    "                self.wcss += np.min(distances)\n",
    "\n",
    "            if (isSimilar(newClusters, self.clusters)):\n",
    "                break\n",
    "            else:\n",
    "                self.clusters = newClusters\n",
    "\n",
    "    def get_wcss(self):\n",
    "        return self.wcss\n",
    "\n",
    "    def get_labels(self):\n",
    "        return self.clusters\n",
    "\n",
    "    def predict(self, x):\n",
    "        distances = [EucledianDistance(x, centroid) for centroid in self.centroids]\n",
    "        return np.argmin(distances)\n"
   ]
  },
  {
   "cell_type": "code",
   "execution_count": 140,
   "metadata": {},
   "outputs": [
    {
     "name": "stdout",
     "output_type": "stream",
     "text": [
      "progress: 33.333333333333336%\n",
      "progress: 66.66666666666667%\n",
      "progress: 100.0%\n"
     ]
    },
    {
     "data": {
      "image/png": "[encoded data removed]",
      "text/plain": [
       "<Figure size 640x480 with 1 Axes>"
      ]
     },
     "metadata": {},
     "output_type": "display_data"
    }
   ],
   "source": [
    "k_values = [3, 5, 7]\n",
    "wcss = []\n",
    "for idx, k in enumerate(k_values):\n",
    "    kmeans = KMeans(k)\n",
    "    kmeans.fit(data)\n",
    "    wcss.append(kmeans.get_wcss())\n",
    "    print(f'progress: {(idx+1)*100/len(k_values)}%')\n",
    "\n",
    "# Plot the elbow graph\n",
    "import matplotlib.pyplot as plt\n",
    "plt.plot(k_values, wcss, 'bx-')\n",
    "plt.xlabel('k')\n",
    "plt.ylabel('WCSS')\n",
    "plt.title('The Elbow Method')\n",
    "plt.show()\n"
   ]
  },
  {
   "cell_type": "markdown",
   "metadata": {},
   "source": [
    "## From the Elbow method we can see that the optimal number of clusters is 5"
   ]
  },
  {
   "cell_type": "code",
   "execution_count": null,
   "metadata": {},
   "outputs": [],
   "source": [
    "from sklearn.metrics import silhouette_score\n",
    "scores = []\n",
    "\n",
    "for idx, k in enumerate(k_values):\n",
    "    kmeans = KMeans(k)\n",
    "    kmeans.fit(data)\n",
    "    scores.append(silhouette_score(data, kmeans.get_labels()))\n",
    "    print(f'progress: {(idx+1)*100/len(k_values)}%')\n"
   ]
  },
  {
   "cell_type": "code",
   "execution_count": 147,
   "metadata": {},
   "outputs": [
    {
     "data": {
      "image/png": "[encoded data removed]",
      "text/plain": [
       "<Figure size 640x480 with 1 Axes>"
      ]
     },
     "metadata": {},
     "output_type": "display_data"
    }
   ],
   "source": [
    "# plot the scores vs k\n",
    "plt.plot(k_values, scores, 'bx-')\n",
    "plt.xlabel('k')\n",
    "plt.ylabel('Silhouette Score')\n",
    "plt.title('Silhouette Score vs k')\n",
    "plt.show()"
   ]
  },
  {
   "cell_type": "markdown",
   "metadata": {},
   "source": [
    "## Silhouette score is maximum for k = 3, so optimal number of clusters is 3"
   ]
  }
 ],
 "metadata": {
  "kernelspec": {
   "display_name": "base",
   "language": "python",
   "name": "python3"
  },
  "language_info": {
   "codemirror_mode": {
    "name": "ipython",
    "version": 3
   },
   "file_extension": ".py",
   "mimetype": "text/x-python",
   "name": "python",
   "nbconvert_exporter": "python",
   "pygments_lexer": "ipython3",
   "version": "3.10.10"
  },
  "orig_nbformat": 4
 },
 "nbformat": 4,
 "nbformat_minor": 2
}
